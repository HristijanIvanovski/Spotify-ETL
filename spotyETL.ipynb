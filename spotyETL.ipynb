{
 "cells": [
  {
   "attachments": {},
   "cell_type": "markdown",
   "metadata": {},
   "source": [
    "## Spotify data ETL project"
   ]
  },
  {
   "attachments": {},
   "cell_type": "markdown",
   "metadata": {},
   "source": [
    "### Imports"
   ]
  },
  {
   "cell_type": "code",
   "execution_count": 37,
   "metadata": {},
   "outputs": [],
   "source": [
    "import pandas as pd\n",
    "import sqlalchemy\n",
    "from sqlalchemy.orm import sessionmaker\n",
    "import requests\n",
    "import json\n",
    "import datetime\n",
    "from datetime import datetime, timedelta\n",
    "import sqlite3"
   ]
  },
  {
   "cell_type": "code",
   "execution_count": 38,
   "metadata": {},
   "outputs": [],
   "source": [
    "# constants\n",
    "DB_LOCATION = 'sqlite:///spoty_songs.sqlite'\n",
    "USER_ID = 'Hristiyan'\n",
    "SPOTY_TOKEN = 'BQB2F97pqY6fOqjRb-qCi7yTrKLFApCfNPh4sByClMlRbIA3K9pUQ6v8YnrCDB-fb_3n43o6UR8HT8vO2ZT6_HfkOyxrSoTIxINqE2VAGVOFOAYcQ8kx6sFHtcZUYMLgRlYVw0kxIbiKhI6tumXNTOe_2EfB4owPZ8zewk0pS50Gaw2P9WtZfFkPB3KM-U8LQtViRw'"
   ]
  },
  {
   "cell_type": "code",
   "execution_count": 53,
   "metadata": {},
   "outputs": [],
   "source": [
    "# create data validation function\n",
    "def data_validation(df: pd.DataFrame) -> bool:\n",
    "    if df.empty:\n",
    "        print('No songs downloaded. Finishing execution')\n",
    "        return False\n",
    "\n",
    "    # Primary Key Check\n",
    "    if pd.Series(df['played_at']).is_unique:\n",
    "        pass\n",
    "    else:\n",
    "        raise Exception('Primary Key Check is violated')\n",
    "\n",
    "    # Check for nulls\n",
    "    if df.isnull().values.any():\n",
    "        raise Exception('Null values found')\n",
    "\n",
    "    # Check that all timestamps are of yesterday's date\n",
    "    yesterday = datetime.now() - timedelta(days=1)\n",
    "    yesterday = yesterday.replace(hour=0, minute=0, second=0, microsecond=0)\n",
    "\n",
    "    timestamps = df['timestamp'].tolist()\n",
    "    for timestamp in timestamps:\n",
    "        if datetime.strptime(timestamp, '%Y-%m-%d') != yesterday:\n",
    "            raise Exception('At least one of the returned songs does not come from within the last 24 hours')\n",
    "\n",
    "    return True"
   ]
  },
  {
   "cell_type": "code",
   "execution_count": 39,
   "metadata": {},
   "outputs": [],
   "source": [
    "# check if current script is being run as main program\n",
    "if __name__ == \"__main__\":\n",
    "    # create the headers for the request\n",
    "    headers = {\n",
    "        \"Accept\" : \"application/json\",\n",
    "        \"Content-Type\" : \"application/json\",\n",
    "        \"Authorization\" : \"Bearer {token}\".format(token=SPOTY_TOKEN)\n",
    "    }"
   ]
  },
  {
   "cell_type": "code",
   "execution_count": 40,
   "metadata": {},
   "outputs": [],
   "source": [
    "# define yesterday unix timestamp step by step\n",
    "today = datetime.now()\n",
    "yesterday = today - timedelta(days=1)\n",
    "yesterday_unix_timestamp = int(yesterday.timestamp()) * 1000"
   ]
  },
  {
   "cell_type": "code",
   "execution_count": 41,
   "metadata": {},
   "outputs": [],
   "source": [
    "# request the data from the API\n",
    "r = requests.get(\"https://api.spotify.com/v1/me/player/recently-played?after={time}\".format(time=yesterday_unix_timestamp), headers=headers)"
   ]
  },
  {
   "cell_type": "code",
   "execution_count": 42,
   "metadata": {},
   "outputs": [],
   "source": [
    "# putting data into json format\n",
    "data = r.json()"
   ]
  },
  {
   "cell_type": "code",
   "execution_count": 44,
   "metadata": {},
   "outputs": [],
   "source": [
    "# create the lists needed for the dataframe\n",
    "song_names = []\n",
    "artist_names = []\n",
    "played_at_list = []\n",
    "timestamps = []"
   ]
  },
  {
   "cell_type": "code",
   "execution_count": 45,
   "metadata": {},
   "outputs": [],
   "source": [
    "# loop through the data and append to the lists\n",
    "for song in data[\"items\"]:\n",
    "    song_names.append(song[\"track\"][\"name\"])\n",
    "    artist_names.append(song[\"track\"][\"album\"][\"artists\"][0][\"name\"])\n",
    "    played_at_list.append(song[\"played_at\"])\n",
    "    timestamps.append(song[\"played_at\"][0:10])"
   ]
  },
  {
   "cell_type": "code",
   "execution_count": 49,
   "metadata": {},
   "outputs": [],
   "source": [
    "# create the dictionary of the data\n",
    "song_dict = {\n",
    "    \"song_name\" : song_names,\n",
    "    \"artist_name\" : artist_names,\n",
    "    \"played_at\" : played_at_list,\n",
    "    \"timestamp\" : timestamps\n",
    "}"
   ]
  },
  {
   "cell_type": "code",
   "execution_count": 50,
   "metadata": {},
   "outputs": [],
   "source": [
    "# create the dataframe\n",
    "songs_df = pd.DataFrame(song_dict, columns = [\"song_name\", \"artist_name\", \"played_at\", \"timestamp\"])"
   ]
  },
  {
   "cell_type": "code",
   "execution_count": null,
   "metadata": {},
   "outputs": [],
   "source": [
    "# validate the data using the data validation function\n",
    "if data_validation(songs_df):\n",
    "    print('Data valid, proceed to Load stage')"
   ]
  }
 ],
 "metadata": {
  "kernelspec": {
   "display_name": "Python 3",
   "language": "python",
   "name": "python3"
  },
  "language_info": {
   "codemirror_mode": {
    "name": "ipython",
    "version": 3
   },
   "file_extension": ".py",
   "mimetype": "text/x-python",
   "name": "python",
   "nbconvert_exporter": "python",
   "pygments_lexer": "ipython3",
   "version": "3.10.9"
  },
  "orig_nbformat": 4,
  "vscode": {
   "interpreter": {
    "hash": "a8bdf6ecaabf31b8dd927186e384dbbbe8635513a40e74ead77eb9b9a6cfe8d5"
   }
  }
 },
 "nbformat": 4,
 "nbformat_minor": 2
}
