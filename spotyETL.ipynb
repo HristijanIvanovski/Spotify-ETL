{
 "cells": [
  {
   "attachments": {},
   "cell_type": "markdown",
   "metadata": {},
   "source": [
    "## Spotify data ETL project"
   ]
  },
  {
   "attachments": {},
   "cell_type": "markdown",
   "metadata": {},
   "source": [
    "### Imports"
   ]
  },
  {
   "cell_type": "code",
   "execution_count": 2,
   "metadata": {},
   "outputs": [],
   "source": [
    "import pandas as pd\n",
    "import sqlalchemy\n",
    "from sqlalchemy.orm import sessionmaker\n",
    "import requests\n",
    "import json\n",
    "import datetime\n",
    "from datetime import datetime\n",
    "import sqlite3"
   ]
  },
  {
   "cell_type": "code",
   "execution_count": 4,
   "metadata": {},
   "outputs": [],
   "source": [
    "# constants\n",
    "DB_LOCATION = 'sqlite:///spoty_songs.sqlite'\n",
    "USER_ID = 'Hristiyan'\n",
    "SPOTY_TOKEN = 'BQAO4y2euytWwn9p60ynLx-JEO0aUVvm-nIkV3zs7_EMXx6yAFUyXh0YI1THqVbrxKyvynASbQ_EmVgKiAtdvWyQsXCmC5dbxCITEI5VP-aH05-a_n05YfXxx2CvfPC__v4Q0Xep7bpkfKEb1yD7XobOTq_djRSka9HgZxk6q2jcdcetIPEbjP7yqmTDra1nMLXR9A'"
   ]
  },
  {
   "cell_type": "code",
   "execution_count": 6,
   "metadata": {},
   "outputs": [],
   "source": [
    "# check if current script is being run as main program\n",
    "if __name__ == \"__main__\":\n",
    "    # create the headers for the request\n",
    "    headers = {\n",
    "        \"Accept\" : \"application/json\",\n",
    "        \"Content-Type\" : \"application/json\",\n",
    "        \"Authorization\" : \"Bearer {token}\".format(token=SPOTY_TOKEN)\n",
    "    }"
   ]
  },
  {
   "cell_type": "code",
   "execution_count": null,
   "metadata": {},
   "outputs": [],
   "source": []
  }
 ],
 "metadata": {
  "kernelspec": {
   "display_name": "Python 3",
   "language": "python",
   "name": "python3"
  },
  "language_info": {
   "codemirror_mode": {
    "name": "ipython",
    "version": 3
   },
   "file_extension": ".py",
   "mimetype": "text/x-python",
   "name": "python",
   "nbconvert_exporter": "python",
   "pygments_lexer": "ipython3",
   "version": "3.10.9"
  },
  "orig_nbformat": 4,
  "vscode": {
   "interpreter": {
    "hash": "a8bdf6ecaabf31b8dd927186e384dbbbe8635513a40e74ead77eb9b9a6cfe8d5"
   }
  }
 },
 "nbformat": 4,
 "nbformat_minor": 2
}
